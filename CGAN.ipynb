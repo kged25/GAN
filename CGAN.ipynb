{
  "cells": [
    {
      "cell_type": "markdown",
      "metadata": {
        "id": "r0lbaUsILGzD"
      },
      "source": [
        "# Conditional GAN\n"
      ]
    },
    {
      "cell_type": "markdown",
      "metadata": {
        "id": "M1ZjGy5bLGzH"
      },
      "source": [
        "Generative Adversarial Networks (GANs) let us generate novel image data, video data,\n",
        "or audio data from a random input. Typically, the random input is sampled\n",
        "from a normal distribution, before going through a series of transformations that turn\n",
        "it into something plausible (image, video, audio, etc.).\n",
        "\n",
        "However, a simple DCGAN doesn't let us control\n",
        "the appearance (e.g. class) of the samples we're generating. For instance,\n",
        "with a GAN that generates MNIST handwritten digits, a simple DCGAN wouldn't let us\n",
        "choose the class of digits we're generating.\n",
        "To be able to control what we generate, we need to _condition_ the GAN output\n",
        "on a semantic input, such as the class of an image.\n",
        "\n",
        "In this example, we'll build a **Conditional GAN** that can generate MNIST handwritten\n",
        "digits conditioned on a given class. Such a model can have various useful applications:\n",
        "\n",
        "* let's say you are dealing with an\n",
        "imbalanced image dataset,\n",
        "and you'd like to gather more examples for the skewed class to balance the dataset.\n",
        "Data collection can be a costly process on its own. You could instead train a Conditional GAN and use\n",
        "it to generate novel images for the class that needs balancing.\n",
        "* Since the generator learns to associate the generated samples with the class labels,\n",
        "its representations can also be used for [other downstream tasks](https://arxiv.org/abs/1809.11096).\n",
        "\n",
        "\n",
        "This example requires TensorFlow 2.5 or higher, as well as TensorFlow Docs, which can be\n",
        "installed using the following command:"
      ]
    },
    {
      "cell_type": "code",
      "execution_count": 3,
      "metadata": {},
      "outputs": [
        {
          "name": "stdout",
          "output_type": "stream",
          "text": [
            "Collecting tensorflow\n",
            "  Downloading tensorflow-2.19.0-cp312-cp312-win_amd64.whl.metadata (4.1 kB)\n",
            "Collecting keras\n",
            "  Downloading keras-3.10.0-py3-none-any.whl.metadata (6.0 kB)\n",
            "Collecting numpy\n",
            "  Using cached numpy-2.2.6-cp312-cp312-win_amd64.whl.metadata (60 kB)\n",
            "Collecting imageio\n",
            "  Downloading imageio-2.37.0-py3-none-any.whl.metadata (5.2 kB)\n",
            "Requirement already satisfied: absl-py>=1.0.0 in d:\\edunet\\projects\\gan\\gan\\lib\\site-packages (from tensorflow) (2.3.0)\n",
            "Collecting astunparse>=1.6.0 (from tensorflow)\n",
            "  Downloading astunparse-1.6.3-py2.py3-none-any.whl.metadata (4.4 kB)\n",
            "Collecting flatbuffers>=24.3.25 (from tensorflow)\n",
            "  Downloading flatbuffers-25.2.10-py2.py3-none-any.whl.metadata (875 bytes)\n",
            "Collecting gast!=0.5.0,!=0.5.1,!=0.5.2,>=0.2.1 (from tensorflow)\n",
            "  Downloading gast-0.6.0-py3-none-any.whl.metadata (1.3 kB)\n",
            "Collecting google-pasta>=0.1.1 (from tensorflow)\n",
            "  Downloading google_pasta-0.2.0-py3-none-any.whl.metadata (814 bytes)\n",
            "Collecting libclang>=13.0.0 (from tensorflow)\n",
            "  Downloading libclang-18.1.1-py2.py3-none-win_amd64.whl.metadata (5.3 kB)\n",
            "Collecting opt-einsum>=2.3.2 (from tensorflow)\n",
            "  Downloading opt_einsum-3.4.0-py3-none-any.whl.metadata (6.3 kB)\n",
            "Requirement already satisfied: packaging in d:\\edunet\\projects\\gan\\gan\\lib\\site-packages (from tensorflow) (25.0)\n",
            "Collecting protobuf!=4.21.0,!=4.21.1,!=4.21.2,!=4.21.3,!=4.21.4,!=4.21.5,<6.0.0dev,>=3.20.3 (from tensorflow)\n",
            "  Downloading protobuf-5.29.5-cp310-abi3-win_amd64.whl.metadata (592 bytes)\n",
            "Collecting requests<3,>=2.21.0 (from tensorflow)\n",
            "  Using cached requests-2.32.3-py3-none-any.whl.metadata (4.6 kB)\n",
            "Collecting setuptools (from tensorflow)\n",
            "  Using cached setuptools-80.9.0-py3-none-any.whl.metadata (6.6 kB)\n",
            "Requirement already satisfied: six>=1.12.0 in d:\\edunet\\projects\\gan\\gan\\lib\\site-packages (from tensorflow) (1.17.0)\n",
            "Collecting termcolor>=1.1.0 (from tensorflow)\n",
            "  Downloading termcolor-3.1.0-py3-none-any.whl.metadata (6.4 kB)\n",
            "Requirement already satisfied: typing-extensions>=3.6.6 in d:\\edunet\\projects\\gan\\gan\\lib\\site-packages (from tensorflow) (4.14.0)\n",
            "Collecting wrapt>=1.11.0 (from tensorflow)\n",
            "  Downloading wrapt-1.17.2-cp312-cp312-win_amd64.whl.metadata (6.5 kB)\n",
            "Collecting grpcio<2.0,>=1.24.3 (from tensorflow)\n",
            "  Downloading grpcio-1.72.1-cp312-cp312-win_amd64.whl.metadata (4.0 kB)\n",
            "Collecting tensorboard~=2.19.0 (from tensorflow)\n",
            "  Downloading tensorboard-2.19.0-py3-none-any.whl.metadata (1.8 kB)\n",
            "Collecting numpy\n",
            "  Downloading numpy-2.1.3-cp312-cp312-win_amd64.whl.metadata (60 kB)\n",
            "Collecting h5py>=3.11.0 (from tensorflow)\n",
            "  Downloading h5py-3.13.0-cp312-cp312-win_amd64.whl.metadata (2.5 kB)\n",
            "Collecting ml-dtypes<1.0.0,>=0.5.1 (from tensorflow)\n",
            "  Downloading ml_dtypes-0.5.1-cp312-cp312-win_amd64.whl.metadata (22 kB)\n",
            "Collecting rich (from keras)\n",
            "  Using cached rich-14.0.0-py3-none-any.whl.metadata (18 kB)\n",
            "Collecting namex (from keras)\n",
            "  Downloading namex-0.1.0-py3-none-any.whl.metadata (322 bytes)\n",
            "Collecting optree (from keras)\n",
            "  Downloading optree-0.16.0-cp312-cp312-win_amd64.whl.metadata (31 kB)\n",
            "Collecting pillow>=8.3.2 (from imageio)\n",
            "  Using cached pillow-11.2.1-cp312-cp312-win_amd64.whl.metadata (9.1 kB)\n",
            "Collecting wheel<1.0,>=0.23.0 (from astunparse>=1.6.0->tensorflow)\n",
            "  Downloading wheel-0.45.1-py3-none-any.whl.metadata (2.3 kB)\n",
            "Collecting charset-normalizer<4,>=2 (from requests<3,>=2.21.0->tensorflow)\n",
            "  Using cached charset_normalizer-3.4.2-cp312-cp312-win_amd64.whl.metadata (36 kB)\n",
            "Collecting idna<4,>=2.5 (from requests<3,>=2.21.0->tensorflow)\n",
            "  Using cached idna-3.10-py3-none-any.whl.metadata (10 kB)\n",
            "Collecting urllib3<3,>=1.21.1 (from requests<3,>=2.21.0->tensorflow)\n",
            "  Using cached urllib3-2.4.0-py3-none-any.whl.metadata (6.5 kB)\n",
            "Collecting certifi>=2017.4.17 (from requests<3,>=2.21.0->tensorflow)\n",
            "  Using cached certifi-2025.4.26-py3-none-any.whl.metadata (2.5 kB)\n",
            "Collecting markdown>=2.6.8 (from tensorboard~=2.19.0->tensorflow)\n",
            "  Downloading markdown-3.8-py3-none-any.whl.metadata (5.1 kB)\n",
            "Collecting tensorboard-data-server<0.8.0,>=0.7.0 (from tensorboard~=2.19.0->tensorflow)\n",
            "  Downloading tensorboard_data_server-0.7.2-py3-none-any.whl.metadata (1.1 kB)\n",
            "Collecting werkzeug>=1.0.1 (from tensorboard~=2.19.0->tensorflow)\n",
            "  Downloading werkzeug-3.1.3-py3-none-any.whl.metadata (3.7 kB)\n",
            "Collecting markdown-it-py>=2.2.0 (from rich->keras)\n",
            "  Using cached markdown_it_py-3.0.0-py3-none-any.whl.metadata (6.9 kB)\n",
            "Requirement already satisfied: pygments<3.0.0,>=2.13.0 in d:\\edunet\\projects\\gan\\gan\\lib\\site-packages (from rich->keras) (2.19.1)\n",
            "Collecting mdurl~=0.1 (from markdown-it-py>=2.2.0->rich->keras)\n",
            "  Using cached mdurl-0.1.2-py3-none-any.whl.metadata (1.6 kB)\n",
            "Requirement already satisfied: MarkupSafe>=2.1.1 in d:\\edunet\\projects\\gan\\gan\\lib\\site-packages (from werkzeug>=1.0.1->tensorboard~=2.19.0->tensorflow) (3.0.2)\n",
            "Downloading tensorflow-2.19.0-cp312-cp312-win_amd64.whl (376.0 MB)\n",
            "   ---------------------------------------- 0.0/376.0 MB ? eta -:--:--\n",
            "    --------------------------------------- 5.5/376.0 MB 27.9 MB/s eta 0:00:14\n",
            "   - -------------------------------------- 11.5/376.0 MB 28.8 MB/s eta 0:00:13\n",
            "   - -------------------------------------- 17.3/376.0 MB 28.7 MB/s eta 0:00:13\n",
            "   -- ------------------------------------- 23.3/376.0 MB 28.4 MB/s eta 0:00:13\n",
            "   -- ------------------------------------- 27.8/376.0 MB 27.1 MB/s eta 0:00:13\n",
            "   --- ------------------------------------ 33.0/376.0 MB 26.9 MB/s eta 0:00:13\n",
            "   ---- ----------------------------------- 38.8/376.0 MB 27.1 MB/s eta 0:00:13\n",
            "   ---- ----------------------------------- 44.3/376.0 MB 26.8 MB/s eta 0:00:13\n",
            "   ----- ---------------------------------- 49.0/376.0 MB 26.7 MB/s eta 0:00:13\n",
            "   ----- ---------------------------------- 55.6/376.0 MB 26.8 MB/s eta 0:00:12\n",
            "   ------ --------------------------------- 61.6/376.0 MB 27.1 MB/s eta 0:00:12\n",
            "   ------- -------------------------------- 67.6/376.0 MB 27.1 MB/s eta 0:00:12\n",
            "   ------- -------------------------------- 73.7/376.0 MB 27.3 MB/s eta 0:00:12\n",
            "   -------- ------------------------------- 78.1/376.0 MB 26.8 MB/s eta 0:00:12\n",
            "   -------- ------------------------------- 83.6/376.0 MB 26.8 MB/s eta 0:00:11\n",
            "   --------- ------------------------------ 88.6/376.0 MB 26.7 MB/s eta 0:00:11\n",
            "   ---------- ----------------------------- 94.4/376.0 MB 26.6 MB/s eta 0:00:11\n",
            "   ---------- ----------------------------- 99.9/376.0 MB 26.7 MB/s eta 0:00:11\n",
            "   ---------- ---------------------------- 105.6/376.0 MB 26.7 MB/s eta 0:00:11\n",
            "   ----------- --------------------------- 111.4/376.0 MB 26.7 MB/s eta 0:00:10\n",
            "   ------------ -------------------------- 116.9/376.0 MB 26.9 MB/s eta 0:00:10\n",
            "   ------------ -------------------------- 121.9/376.0 MB 26.7 MB/s eta 0:00:10\n",
            "   ------------- ------------------------- 127.4/376.0 MB 26.6 MB/s eta 0:00:10\n",
            "   ------------- ------------------------- 132.1/376.0 MB 26.5 MB/s eta 0:00:10\n",
            "   -------------- ------------------------ 136.8/376.0 MB 26.3 MB/s eta 0:00:10\n",
            "   -------------- ------------------------ 143.1/376.0 MB 26.4 MB/s eta 0:00:09\n",
            "   --------------- ----------------------- 149.2/376.0 MB 26.5 MB/s eta 0:00:09\n",
            "   ---------------- ---------------------- 154.9/376.0 MB 26.6 MB/s eta 0:00:09\n",
            "   ---------------- ---------------------- 160.4/376.0 MB 26.6 MB/s eta 0:00:09\n",
            "   ----------------- --------------------- 165.9/376.0 MB 26.5 MB/s eta 0:00:08\n",
            "   ----------------- --------------------- 171.2/376.0 MB 26.5 MB/s eta 0:00:08\n",
            "   ------------------ -------------------- 177.2/376.0 MB 26.6 MB/s eta 0:00:08\n",
            "   ------------------- ------------------- 183.5/376.0 MB 26.7 MB/s eta 0:00:08\n",
            "   ------------------- ------------------- 189.8/376.0 MB 26.8 MB/s eta 0:00:07\n",
            "   -------------------- ------------------ 194.8/376.0 MB 26.7 MB/s eta 0:00:07\n",
            "   -------------------- ------------------ 200.3/376.0 MB 26.7 MB/s eta 0:00:07\n",
            "   --------------------- ----------------- 205.5/376.0 MB 26.6 MB/s eta 0:00:07\n",
            "   --------------------- ----------------- 211.0/376.0 MB 26.7 MB/s eta 0:00:07\n",
            "   ---------------------- ---------------- 217.8/376.0 MB 26.8 MB/s eta 0:00:06\n",
            "   ----------------------- --------------- 223.6/376.0 MB 26.8 MB/s eta 0:00:06\n",
            "   ----------------------- --------------- 229.6/376.0 MB 26.9 MB/s eta 0:00:06\n",
            "   ------------------------ -------------- 234.9/376.0 MB 26.9 MB/s eta 0:00:06\n",
            "   ------------------------ -------------- 239.9/376.0 MB 26.8 MB/s eta 0:00:06\n",
            "   ------------------------- ------------- 245.6/376.0 MB 26.8 MB/s eta 0:00:05\n",
            "   -------------------------- ------------ 250.9/376.0 MB 26.7 MB/s eta 0:00:05\n",
            "   -------------------------- ------------ 256.4/376.0 MB 26.7 MB/s eta 0:00:05\n",
            "   --------------------------- ----------- 261.6/376.0 MB 26.7 MB/s eta 0:00:05\n",
            "   --------------------------- ----------- 266.6/376.0 MB 26.6 MB/s eta 0:00:05\n",
            "   ---------------------------- ---------- 271.8/376.0 MB 26.5 MB/s eta 0:00:04\n",
            "   ---------------------------- ---------- 277.1/376.0 MB 26.4 MB/s eta 0:00:04\n",
            "   ----------------------------- --------- 282.9/376.0 MB 26.4 MB/s eta 0:00:04\n",
            "   ----------------------------- --------- 288.6/376.0 MB 26.5 MB/s eta 0:00:04\n",
            "   ------------------------------ -------- 294.4/376.0 MB 26.5 MB/s eta 0:00:04\n",
            "   ------------------------------- ------- 299.9/376.0 MB 26.6 MB/s eta 0:00:03\n",
            "   ------------------------------- ------- 306.2/376.0 MB 26.6 MB/s eta 0:00:03\n",
            "   -------------------------------- ------ 311.4/376.0 MB 26.8 MB/s eta 0:00:03\n",
            "   -------------------------------- ------ 317.2/376.0 MB 26.6 MB/s eta 0:00:03\n",
            "   --------------------------------- ----- 321.9/376.0 MB 26.5 MB/s eta 0:00:03\n",
            "   --------------------------------- ----- 326.9/376.0 MB 26.4 MB/s eta 0:00:02\n",
            "   ---------------------------------- ---- 331.6/376.0 MB 26.2 MB/s eta 0:00:02\n",
            "   ---------------------------------- ---- 337.4/376.0 MB 26.3 MB/s eta 0:00:02\n",
            "   ----------------------------------- --- 342.6/376.0 MB 26.4 MB/s eta 0:00:02\n",
            "   ------------------------------------ -- 347.9/376.0 MB 26.3 MB/s eta 0:00:02\n",
            "   ------------------------------------ -- 354.4/376.0 MB 26.4 MB/s eta 0:00:01\n",
            "   ------------------------------------- - 360.7/376.0 MB 26.5 MB/s eta 0:00:01\n",
            "   ------------------------------------- - 364.9/376.0 MB 26.4 MB/s eta 0:00:01\n",
            "   --------------------------------------  369.1/376.0 MB 26.2 MB/s eta 0:00:01\n",
            "   --------------------------------------  374.1/376.0 MB 26.1 MB/s eta 0:00:01\n",
            "   --------------------------------------  375.9/376.0 MB 26.0 MB/s eta 0:00:01\n",
            "   --------------------------------------  375.9/376.0 MB 26.0 MB/s eta 0:00:01\n",
            "   --------------------------------------  375.9/376.0 MB 26.0 MB/s eta 0:00:01\n",
            "   --------------------------------------  375.9/376.0 MB 26.0 MB/s eta 0:00:01\n",
            "   --------------------------------------  375.9/376.0 MB 26.0 MB/s eta 0:00:01\n",
            "   --------------------------------------  375.9/376.0 MB 26.0 MB/s eta 0:00:01\n",
            "   --------------------------------------  375.9/376.0 MB 26.0 MB/s eta 0:00:01\n",
            "   --------------------------------------  375.9/376.0 MB 26.0 MB/s eta 0:00:01\n",
            "   --------------------------------------  375.9/376.0 MB 26.0 MB/s eta 0:00:01\n",
            "   --------------------------------------  375.9/376.0 MB 26.0 MB/s eta 0:00:01\n",
            "   --------------------------------------  375.9/376.0 MB 26.0 MB/s eta 0:00:01\n",
            "   --------------------------------------  375.9/376.0 MB 26.0 MB/s eta 0:00:01\n",
            "   --------------------------------------  375.9/376.0 MB 26.0 MB/s eta 0:00:01\n",
            "   --------------------------------------  375.9/376.0 MB 26.0 MB/s eta 0:00:01\n",
            "   --------------------------------------  375.9/376.0 MB 26.0 MB/s eta 0:00:01\n",
            "   --------------------------------------  375.9/376.0 MB 26.0 MB/s eta 0:00:01\n",
            "   --------------------------------------  375.9/376.0 MB 26.0 MB/s eta 0:00:01\n",
            "   --------------------------------------  375.9/376.0 MB 26.0 MB/s eta 0:00:01\n",
            "   --------------------------------------- 376.0/376.0 MB 19.1 MB/s eta 0:00:00\n",
            "Downloading keras-3.10.0-py3-none-any.whl (1.4 MB)\n",
            "   ---------------------------------------- 0.0/1.4 MB ? eta -:--:--\n",
            "   ---------------------------------------- 1.4/1.4 MB 14.3 MB/s eta 0:00:00\n",
            "Downloading numpy-2.1.3-cp312-cp312-win_amd64.whl (12.6 MB)\n",
            "   ---------------------------------------- 0.0/12.6 MB ? eta -:--:--\n",
            "   ------------ --------------------------- 3.9/12.6 MB 16.8 MB/s eta 0:00:01\n",
            "   ------------------------ --------------- 7.6/12.6 MB 18.8 MB/s eta 0:00:01\n",
            "   ----------------------------------- ---- 11.3/12.6 MB 18.1 MB/s eta 0:00:01\n",
            "   ---------------------------------------- 12.6/12.6 MB 16.8 MB/s eta 0:00:00\n",
            "Downloading imageio-2.37.0-py3-none-any.whl (315 kB)\n",
            "Downloading astunparse-1.6.3-py2.py3-none-any.whl (12 kB)\n",
            "Downloading flatbuffers-25.2.10-py2.py3-none-any.whl (30 kB)\n",
            "Downloading gast-0.6.0-py3-none-any.whl (21 kB)\n",
            "Downloading google_pasta-0.2.0-py3-none-any.whl (57 kB)\n",
            "Downloading grpcio-1.72.1-cp312-cp312-win_amd64.whl (4.2 MB)\n",
            "   ---------------------------------------- 0.0/4.2 MB ? eta -:--:--\n",
            "   ---------------------------------------  4.2/4.2 MB 25.2 MB/s eta 0:00:01\n",
            "   ---------------------------------------- 4.2/4.2 MB 18.1 MB/s eta 0:00:00\n",
            "Downloading h5py-3.13.0-cp312-cp312-win_amd64.whl (3.0 MB)\n",
            "   ---------------------------------------- 0.0/3.0 MB ? eta -:--:--\n",
            "   ---------------------------------------- 3.0/3.0 MB 19.2 MB/s eta 0:00:00\n",
            "Downloading libclang-18.1.1-py2.py3-none-win_amd64.whl (26.4 MB)\n",
            "   ---------------------------------------- 0.0/26.4 MB ? eta -:--:--\n",
            "   --------- ------------------------------ 6.3/26.4 MB 29.7 MB/s eta 0:00:01\n",
            "   ------------------ --------------------- 12.1/26.4 MB 28.0 MB/s eta 0:00:01\n",
            "   -------------------------- ------------- 17.3/26.4 MB 27.3 MB/s eta 0:00:01\n",
            "   --------------------------------- ------ 22.0/26.4 MB 26.3 MB/s eta 0:00:01\n",
            "   ---------------------------------------  26.2/26.4 MB 25.5 MB/s eta 0:00:01\n",
            "   ---------------------------------------- 26.4/26.4 MB 23.2 MB/s eta 0:00:00\n",
            "Downloading ml_dtypes-0.5.1-cp312-cp312-win_amd64.whl (210 kB)\n",
            "Downloading opt_einsum-3.4.0-py3-none-any.whl (71 kB)\n",
            "Using cached pillow-11.2.1-cp312-cp312-win_amd64.whl (2.7 MB)\n",
            "Downloading protobuf-5.29.5-cp310-abi3-win_amd64.whl (434 kB)\n",
            "Using cached requests-2.32.3-py3-none-any.whl (64 kB)\n",
            "Downloading tensorboard-2.19.0-py3-none-any.whl (5.5 MB)\n",
            "   ---------------------------------------- 0.0/5.5 MB ? eta -:--:--\n",
            "   -------------------------------------- - 5.2/5.5 MB 26.5 MB/s eta 0:00:01\n",
            "   ---------------------------------------- 5.5/5.5 MB 21.0 MB/s eta 0:00:00\n",
            "Using cached setuptools-80.9.0-py3-none-any.whl (1.2 MB)\n",
            "Downloading termcolor-3.1.0-py3-none-any.whl (7.7 kB)\n",
            "Downloading wrapt-1.17.2-cp312-cp312-win_amd64.whl (38 kB)\n",
            "Downloading namex-0.1.0-py3-none-any.whl (5.9 kB)\n",
            "Downloading optree-0.16.0-cp312-cp312-win_amd64.whl (315 kB)\n",
            "Using cached rich-14.0.0-py3-none-any.whl (243 kB)\n",
            "Using cached certifi-2025.4.26-py3-none-any.whl (159 kB)\n",
            "Using cached charset_normalizer-3.4.2-cp312-cp312-win_amd64.whl (105 kB)\n",
            "Using cached idna-3.10-py3-none-any.whl (70 kB)\n",
            "Downloading markdown-3.8-py3-none-any.whl (106 kB)\n",
            "Using cached markdown_it_py-3.0.0-py3-none-any.whl (87 kB)\n",
            "Downloading tensorboard_data_server-0.7.2-py3-none-any.whl (2.4 kB)\n",
            "Using cached urllib3-2.4.0-py3-none-any.whl (128 kB)\n",
            "Downloading werkzeug-3.1.3-py3-none-any.whl (224 kB)\n",
            "Downloading wheel-0.45.1-py3-none-any.whl (72 kB)\n",
            "Using cached mdurl-0.1.2-py3-none-any.whl (10.0 kB)\n",
            "Installing collected packages: namex, libclang, flatbuffers, wrapt, wheel, werkzeug, urllib3, termcolor, tensorboard-data-server, setuptools, protobuf, pillow, optree, opt-einsum, numpy, mdurl, markdown, idna, grpcio, google-pasta, gast, charset-normalizer, certifi, tensorboard, requests, ml-dtypes, markdown-it-py, imageio, h5py, astunparse, rich, keras, tensorflow\n",
            "  Attempting uninstall: protobuf\n",
            "    Found existing installation: protobuf 6.31.1\n",
            "    Uninstalling protobuf-6.31.1:\n",
            "      Successfully uninstalled protobuf-6.31.1\n",
            "Successfully installed astunparse-1.6.3 certifi-2025.4.26 charset-normalizer-3.4.2 flatbuffers-25.2.10 gast-0.6.0 google-pasta-0.2.0 grpcio-1.72.1 h5py-3.13.0 idna-3.10 imageio-2.37.0 keras-3.10.0 libclang-18.1.1 markdown-3.8 markdown-it-py-3.0.0 mdurl-0.1.2 ml-dtypes-0.5.1 namex-0.1.0 numpy-2.1.3 opt-einsum-3.4.0 optree-0.16.0 pillow-11.2.1 protobuf-5.29.5 requests-2.32.3 rich-14.0.0 setuptools-80.9.0 tensorboard-2.19.0 tensorboard-data-server-0.7.2 tensorflow-2.19.0 termcolor-3.1.0 urllib3-2.4.0 werkzeug-3.1.3 wheel-0.45.1 wrapt-1.17.2\n"
          ]
        },
        {
          "name": "stderr",
          "output_type": "stream",
          "text": [
            "\n",
            "[notice] A new release of pip is available: 24.3.1 -> 25.1.1\n",
            "[notice] To update, run: python.exe -m pip install --upgrade pip\n"
          ]
        }
      ],
      "source": [
        "!pip install --upgrade tensorflow keras numpy imageio"
      ]
    },
    {
      "cell_type": "code",
      "execution_count": 4,
      "metadata": {
        "id": "yB_41H5OLGzJ"
      },
      "outputs": [
        {
          "name": "stderr",
          "output_type": "stream",
          "text": [
            "\n",
            "[notice] A new release of pip is available: 24.3.1 -> 25.1.1\n",
            "[notice] To update, run: python.exe -m pip install --upgrade pip\n"
          ]
        }
      ],
      "source": [
        "!pip install -q git+https://github.com/tensorflow/docs"
      ]
    },
    {
      "cell_type": "markdown",
      "metadata": {
        "id": "m2FpQ3XCLGzL"
      },
      "source": [
        "## Imports"
      ]
    },
    {
      "cell_type": "code",
      "execution_count": 5,
      "metadata": {
        "id": "g0mHRUBOLGzM"
      },
      "outputs": [],
      "source": [
        "import keras\n",
        "\n",
        "from keras import layers\n",
        "from keras import ops\n",
        "from tensorflow_docs.vis import embed\n",
        "import tensorflow as tf\n",
        "import numpy as np\n",
        "import imageio"
      ]
    },
    {
      "cell_type": "markdown",
      "metadata": {
        "id": "jyiNHM3eLGzN"
      },
      "source": [
        "## Constants and hyperparameters"
      ]
    },
    {
      "cell_type": "code",
      "execution_count": 6,
      "metadata": {
        "id": "2qmVzatpLGzP"
      },
      "outputs": [],
      "source": [
        "batch_size = 64\n",
        "num_channels = 1\n",
        "num_classes = 10\n",
        "image_size = 28\n",
        "latent_dim = 128"
      ]
    },
    {
      "cell_type": "markdown",
      "metadata": {
        "id": "Bf3JVMGoLGzQ"
      },
      "source": [
        "## Loading the MNIST dataset and preprocessing it"
      ]
    },
    {
      "cell_type": "code",
      "execution_count": 7,
      "metadata": {
        "id": "t_iUJl9XLGzQ"
      },
      "outputs": [
        {
          "name": "stdout",
          "output_type": "stream",
          "text": [
            "Downloading data from https://storage.googleapis.com/tensorflow/tf-keras-datasets/mnist.npz\n",
            "\u001b[1m11490434/11490434\u001b[0m \u001b[32m━━━━━━━━━━━━━━━━━━━━\u001b[0m\u001b[37m\u001b[0m \u001b[1m2s\u001b[0m 0us/step\n",
            "Shape of training images: (70000, 28, 28, 1)\n",
            "Shape of training labels: (70000, 10)\n"
          ]
        }
      ],
      "source": [
        "# We'll use all the available examples from both the training and test\n",
        "# sets.\n",
        "(x_train, y_train), (x_test, y_test) = keras.datasets.mnist.load_data()\n",
        "all_digits = np.concatenate([x_train, x_test])\n",
        "all_labels = np.concatenate([y_train, y_test])\n",
        "\n",
        "# Scale the pixel values to [0, 1] range, add a channel dimension to\n",
        "# the images, and one-hot encode the labels.\n",
        "all_digits = all_digits.astype(\"float32\") / 255.0\n",
        "all_digits = np.reshape(all_digits, (-1, 28, 28, 1))\n",
        "all_labels = keras.utils.to_categorical(all_labels, 10)\n",
        "\n",
        "# Create tf.data.Dataset.\n",
        "dataset = tf.data.Dataset.from_tensor_slices((all_digits, all_labels))\n",
        "dataset = dataset.shuffle(buffer_size=1024).batch(batch_size)\n",
        "\n",
        "print(f\"Shape of training images: {all_digits.shape}\")\n",
        "print(f\"Shape of training labels: {all_labels.shape}\")"
      ]
    },
    {
      "cell_type": "markdown",
      "metadata": {
        "id": "3gTMe9KwLGzR"
      },
      "source": [
        "## Calculating the number of input channel for the generator and discriminator\n",
        "\n",
        "In a regular (unconditional) GAN, we start by sampling noise (of some fixed\n",
        "dimension) from a normal distribution. In our case, we also need to account\n",
        "for the class labels. We will have to add the number of classes to\n",
        "the input channels of the generator (noise input) as well as the discriminator\n",
        "(generated image input)."
      ]
    },
    {
      "cell_type": "code",
      "execution_count": 8,
      "metadata": {
        "id": "TXQosD0nLGzS"
      },
      "outputs": [
        {
          "name": "stdout",
          "output_type": "stream",
          "text": [
            "138 11\n"
          ]
        }
      ],
      "source": [
        "generator_in_channels = latent_dim + num_classes\n",
        "discriminator_in_channels = num_channels + num_classes\n",
        "print(generator_in_channels, discriminator_in_channels)"
      ]
    },
    {
      "cell_type": "markdown",
      "metadata": {
        "id": "0Cp19jMILGzT"
      },
      "source": [
        "## Creating the discriminator and generator\n"
      ]
    },
    {
      "cell_type": "code",
      "execution_count": 9,
      "metadata": {
        "id": "k0L_uMwwLGzT"
      },
      "outputs": [],
      "source": [
        "# Create the discriminator.\n",
        "discriminator = keras.Sequential(\n",
        "    [\n",
        "        keras.layers.InputLayer((28, 28, discriminator_in_channels)),\n",
        "        layers.Conv2D(64, (3, 3), strides=(2, 2), padding=\"same\"),\n",
        "        layers.LeakyReLU(negative_slope=0.2),\n",
        "        layers.Conv2D(128, (3, 3), strides=(2, 2), padding=\"same\"),\n",
        "        layers.LeakyReLU(negative_slope=0.2),\n",
        "        layers.GlobalMaxPooling2D(),\n",
        "        layers.Dense(1),\n",
        "    ],\n",
        "    name=\"discriminator\",\n",
        ")\n",
        "\n",
        "# Create the generator.\n",
        "generator = keras.Sequential(\n",
        "    [\n",
        "        keras.layers.InputLayer((generator_in_channels,)),\n",
        "        # We want to generate 128 + num_classes coefficients to reshape into a\n",
        "        # 7x7x(128 + num_classes) map.\n",
        "        layers.Dense(7 * 7 * generator_in_channels),\n",
        "        layers.LeakyReLU(negative_slope=0.2),\n",
        "        layers.Reshape((7, 7, generator_in_channels)),\n",
        "        layers.Conv2DTranspose(128, (4, 4), strides=(2, 2), padding=\"same\"),\n",
        "        layers.LeakyReLU(negative_slope=0.2),\n",
        "        layers.Conv2DTranspose(128, (4, 4), strides=(2, 2), padding=\"same\"),\n",
        "        layers.LeakyReLU(negative_slope=0.2),\n",
        "        layers.Conv2D(1, (7, 7), padding=\"same\", activation=\"sigmoid\"),\n",
        "    ],\n",
        "    name=\"generator\",\n",
        ")"
      ]
    },
    {
      "cell_type": "markdown",
      "metadata": {
        "id": "eRqZVLeqLGzU"
      },
      "source": [
        "## Creating a `ConditionalGAN` model"
      ]
    },
    {
      "cell_type": "code",
      "execution_count": 10,
      "metadata": {
        "id": "A58tdMZPLGzU"
      },
      "outputs": [],
      "source": [
        "\n",
        "class ConditionalGAN(keras.Model):\n",
        "    def __init__(self, discriminator, generator, latent_dim):\n",
        "        super().__init__()\n",
        "        self.discriminator = discriminator\n",
        "        self.generator = generator\n",
        "        self.latent_dim = latent_dim\n",
        "        self.seed_generator = keras.random.SeedGenerator(1337)\n",
        "        self.gen_loss_tracker = keras.metrics.Mean(name=\"generator_loss\")\n",
        "        self.disc_loss_tracker = keras.metrics.Mean(name=\"discriminator_loss\")\n",
        "\n",
        "    @property\n",
        "    def metrics(self):\n",
        "        return [self.gen_loss_tracker, self.disc_loss_tracker]\n",
        "\n",
        "    def compile(self, d_optimizer, g_optimizer, loss_fn):\n",
        "        super().compile()\n",
        "        self.d_optimizer = d_optimizer\n",
        "        self.g_optimizer = g_optimizer\n",
        "        self.loss_fn = loss_fn\n",
        "\n",
        "    def train_step(self, data):\n",
        "        # Unpack the data.\n",
        "        real_images, one_hot_labels = data\n",
        "\n",
        "        # Add dummy dimensions to the labels so that they can be concatenated with\n",
        "        # the images. This is for the discriminator.\n",
        "        image_one_hot_labels = one_hot_labels[:, :, None, None]\n",
        "        image_one_hot_labels = ops.repeat(\n",
        "            image_one_hot_labels, repeats=[image_size * image_size]\n",
        "        )\n",
        "        image_one_hot_labels = ops.reshape(\n",
        "            image_one_hot_labels, (-1, image_size, image_size, num_classes)\n",
        "        )\n",
        "\n",
        "        # Sample random points in the latent space and concatenate the labels.\n",
        "        # This is for the generator.\n",
        "        batch_size = ops.shape(real_images)[0]\n",
        "        random_latent_vectors = keras.random.normal(\n",
        "            shape=(batch_size, self.latent_dim), seed=self.seed_generator\n",
        "        )\n",
        "        random_vector_labels = ops.concatenate(\n",
        "            [random_latent_vectors, one_hot_labels], axis=1\n",
        "        )\n",
        "\n",
        "        # Decode the noise (guided by labels) to fake images.\n",
        "        generated_images = self.generator(random_vector_labels)\n",
        "\n",
        "        # Combine them with real images. Note that we are concatenating the labels\n",
        "        # with these images here.\n",
        "        fake_image_and_labels = ops.concatenate(\n",
        "            [generated_images, image_one_hot_labels], -1\n",
        "        )\n",
        "        real_image_and_labels = ops.concatenate([real_images, image_one_hot_labels], -1)\n",
        "        combined_images = ops.concatenate(\n",
        "            [fake_image_and_labels, real_image_and_labels], axis=0\n",
        "        )\n",
        "\n",
        "        # Assemble labels discriminating real from fake images.\n",
        "        labels = ops.concatenate(\n",
        "            [ops.ones((batch_size, 1)), ops.zeros((batch_size, 1))], axis=0\n",
        "        )\n",
        "\n",
        "        # Train the discriminator.\n",
        "        with tf.GradientTape() as tape:\n",
        "            predictions = self.discriminator(combined_images)\n",
        "            d_loss = self.loss_fn(labels, predictions)\n",
        "        grads = tape.gradient(d_loss, self.discriminator.trainable_weights)\n",
        "        self.d_optimizer.apply_gradients(\n",
        "            zip(grads, self.discriminator.trainable_weights)\n",
        "        )\n",
        "\n",
        "        # Sample random points in the latent space.\n",
        "        random_latent_vectors = keras.random.normal(\n",
        "            shape=(batch_size, self.latent_dim), seed=self.seed_generator\n",
        "        )\n",
        "        random_vector_labels = ops.concatenate(\n",
        "            [random_latent_vectors, one_hot_labels], axis=1\n",
        "        )\n",
        "\n",
        "        # Assemble labels that say \"all real images\".\n",
        "        misleading_labels = ops.zeros((batch_size, 1))\n",
        "\n",
        "        # Train the generator (note that we should *not* update the weights\n",
        "        # of the discriminator)!\n",
        "        with tf.GradientTape() as tape:\n",
        "            fake_images = self.generator(random_vector_labels)\n",
        "            fake_image_and_labels = ops.concatenate(\n",
        "                [fake_images, image_one_hot_labels], -1\n",
        "            )\n",
        "            predictions = self.discriminator(fake_image_and_labels)\n",
        "            g_loss = self.loss_fn(misleading_labels, predictions)\n",
        "        grads = tape.gradient(g_loss, self.generator.trainable_weights)\n",
        "        self.g_optimizer.apply_gradients(zip(grads, self.generator.trainable_weights))\n",
        "\n",
        "        # Monitor loss.\n",
        "        self.gen_loss_tracker.update_state(g_loss)\n",
        "        self.disc_loss_tracker.update_state(d_loss)\n",
        "        return {\n",
        "            \"g_loss\": self.gen_loss_tracker.result(),\n",
        "            \"d_loss\": self.disc_loss_tracker.result(),\n",
        "        }\n"
      ]
    },
    {
      "cell_type": "markdown",
      "metadata": {
        "id": "Bf7oiKnILGzU"
      },
      "source": [
        "## Training the Conditional GAN"
      ]
    },
    {
      "cell_type": "code",
      "execution_count": 12,
      "metadata": {
        "id": "4uYWlGnyLGzV"
      },
      "outputs": [
        {
          "name": "stdout",
          "output_type": "stream",
          "text": [
            "\u001b[1m1094/1094\u001b[0m \u001b[32m━━━━━━━━━━━━━━━━━━━━\u001b[0m\u001b[37m\u001b[0m \u001b[1m181s\u001b[0m 163ms/step - d_loss: 0.5013 - g_loss: 1.3325\n"
          ]
        },
        {
          "data": {
            "text/plain": [
              "<keras.src.callbacks.history.History at 0x25952b13bf0>"
            ]
          },
          "execution_count": 12,
          "metadata": {},
          "output_type": "execute_result"
        }
      ],
      "source": [
        "cond_gan = ConditionalGAN(\n",
        "    discriminator=discriminator, generator=generator, latent_dim=latent_dim\n",
        ")\n",
        "cond_gan.compile(\n",
        "    d_optimizer=keras.optimizers.Adam(learning_rate=0.0003),\n",
        "    g_optimizer=keras.optimizers.Adam(learning_rate=0.0003),\n",
        "    loss_fn=keras.losses.BinaryCrossentropy(from_logits=True),\n",
        ")\n",
        "\n",
        "cond_gan.fit(dataset, epochs=1)"
      ]
    },
    {
      "cell_type": "markdown",
      "metadata": {
        "id": "bkUcsoG9LGzV"
      },
      "source": [
        "## Interpolating between classes with the trained generator"
      ]
    },
    {
      "cell_type": "code",
      "execution_count": 13,
      "metadata": {
        "id": "ZsLyslEXLGzW"
      },
      "outputs": [
        {
          "name": "stdout",
          "output_type": "stream",
          "text": [
            "\u001b[1m1/1\u001b[0m \u001b[32m━━━━━━━━━━━━━━━━━━━━\u001b[0m\u001b[37m\u001b[0m \u001b[1m0s\u001b[0m 117ms/step\n"
          ]
        }
      ],
      "source": [
        "# We first extract the trained generator from our Conditional GAN.\n",
        "trained_gen = cond_gan.generator\n",
        "\n",
        "# Choose the number of intermediate images that would be generated in\n",
        "# between the interpolation + 2 (start and last images).\n",
        "num_interpolation = 9  # @param {type:\"integer\"}\n",
        "\n",
        "# Sample noise for the interpolation.\n",
        "interpolation_noise = keras.random.normal(shape=(1, latent_dim))\n",
        "interpolation_noise = ops.repeat(interpolation_noise, repeats=num_interpolation)\n",
        "interpolation_noise = ops.reshape(interpolation_noise, (num_interpolation, latent_dim))\n",
        "\n",
        "\n",
        "def interpolate_class(first_number, second_number):\n",
        "    # Convert the start and end labels to one-hot encoded vectors.\n",
        "    first_label = keras.utils.to_categorical([first_number], num_classes)\n",
        "    second_label = keras.utils.to_categorical([second_number], num_classes)\n",
        "    first_label = ops.cast(first_label, \"float32\")\n",
        "    second_label = ops.cast(second_label, \"float32\")\n",
        "\n",
        "    # Calculate the interpolation vector between the two labels.\n",
        "    percent_second_label = ops.linspace(0, 1, num_interpolation)[:, None]\n",
        "    percent_second_label = ops.cast(percent_second_label, \"float32\")\n",
        "    interpolation_labels = (\n",
        "        first_label * (1 - percent_second_label) + second_label * percent_second_label\n",
        "    )\n",
        "\n",
        "    # Combine the noise and the labels and run inference with the generator.\n",
        "    noise_and_labels = ops.concatenate([interpolation_noise, interpolation_labels], 1)\n",
        "    fake = trained_gen.predict(noise_and_labels)\n",
        "    return fake\n",
        "\n",
        "\n",
        "start_class = 2  # @param {type:\"slider\", min:0, max:9, step:1}\n",
        "end_class = 6  # @param {type:\"slider\", min:0, max:9, step:1}\n",
        "\n",
        "fake_images = interpolate_class(start_class, end_class)"
      ]
    },
    {
      "cell_type": "markdown",
      "metadata": {
        "id": "p1_DG7f5LGzW"
      },
      "source": [
        "Here, we first sample noise from a normal distribution and then we repeat that for\n",
        "`num_interpolation` times and reshape the result accordingly.\n",
        "We then distribute it uniformly for `num_interpolation`\n",
        "with the label identities being present in some proportion."
      ]
    },
    {
      "cell_type": "code",
      "execution_count": 14,
      "metadata": {
        "id": "x-nkBDtnLGzX"
      },
      "outputs": [
        {
          "data": {
            "text/html": [
              "<img src=\"data:image/gif;base64,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\"/>"
            ],
            "text/plain": [
              "<IPython.core.display.HTML object>"
            ]
          },
          "execution_count": 14,
          "metadata": {},
          "output_type": "execute_result"
        }
      ],
      "source": [
        "fake_images *= 255.0\n",
        "converted_images = fake_images.astype(np.uint8)\n",
        "converted_images = ops.image.resize(converted_images, (96, 96)).numpy().astype(np.uint8)\n",
        "imageio.mimsave(\"animation.gif\", converted_images[:, :, :, 0], fps=1)\n",
        "embed.embed_file(\"animation.gif\")"
      ]
    },
    {
      "cell_type": "code",
      "execution_count": 15,
      "metadata": {},
      "outputs": [],
      "source": [
        "!pip freeze > requirements.txt"
      ]
    },
    {
      "cell_type": "code",
      "execution_count": null,
      "metadata": {},
      "outputs": [],
      "source": []
    }
  ],
  "metadata": {
    "accelerator": "GPU",
    "colab": {
      "name": "conditional_gan",
      "provenance": []
    },
    "kernelspec": {
      "display_name": "gan",
      "language": "python",
      "name": "python3"
    },
    "language_info": {
      "codemirror_mode": {
        "name": "ipython",
        "version": 3
      },
      "file_extension": ".py",
      "mimetype": "text/x-python",
      "name": "python",
      "nbconvert_exporter": "python",
      "pygments_lexer": "ipython3",
      "version": "3.12.8"
    }
  },
  "nbformat": 4,
  "nbformat_minor": 0
}
